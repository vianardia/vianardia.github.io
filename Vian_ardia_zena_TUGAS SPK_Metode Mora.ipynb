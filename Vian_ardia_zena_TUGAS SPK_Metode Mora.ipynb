{
  "nbformat": 4,
  "nbformat_minor": 0,
  "metadata": {
    "colab": {
      "provenance": [],
      "authorship_tag": "ABX9TyOb7B+fBF4JzBm5ll+/mv/4",
      "include_colab_link": true
    },
    "kernelspec": {
      "name": "python3",
      "display_name": "Python 3"
    },
    "language_info": {
      "name": "python"
    }
  },
  "cells": [
    {
      "cell_type": "markdown",
      "metadata": {
        "id": "view-in-github",
        "colab_type": "text"
      },
      "source": [
        "<a href=\"https://colab.research.google.com/github/vianardia/vianardia.github.io/blob/main/Vian_ardia_zena_TUGAS%20SPK_Metode%20Mora.ipynb\" target=\"_parent\"><img src=\"https://colab.research.google.com/assets/colab-badge.svg\" alt=\"Open In Colab\"/></a>"
      ]
    },
    {
      "cell_type": "code",
      "execution_count": null,
      "metadata": {
        "id": "KYbLIKDbfC4Q"
      },
      "outputs": [],
      "source": [
        "import numpy as np\n",
        "import pandas as pd\n",
        "import matplotlib.pyplot as plt"
      ]
    },
    {
      "cell_type": "code",
      "source": [
        "print(\"IMPLEMENTASI METODE MOORA\")\n",
        "print(\"=\" * 50)"
      ],
      "metadata": {
        "colab": {
          "base_uri": "https://localhost:8080/"
        },
        "id": "EIDGVEnKfMZ8",
        "outputId": "0b354027-589c-40dd-961f-2800e11f5408"
      },
      "execution_count": null,
      "outputs": [
        {
          "output_type": "stream",
          "name": "stdout",
          "text": [
            "IMPLEMENTASI METODE MOORA\n",
            "==================================================\n"
          ]
        }
      ]
    },
    {
      "cell_type": "code",
      "source": [
        "# Data dari Excel\n",
        "alternatives = ['A1', 'A2', 'A3', 'A4']\n",
        "criteria = ['C1', 'C2', 'C3', 'C4', 'C5']"
      ],
      "metadata": {
        "id": "UqkWNxdFfiWi"
      },
      "execution_count": null,
      "outputs": []
    },
    {
      "cell_type": "code",
      "source": [
        "# Matrix keputusan\n",
        "decision_matrix = np.array([\n",
        "    [150.0, 15.0, 2.0, 2.0, 3.0],\n",
        "    [500.0, 200.0, 2.0, 3.0, 2.0],\n",
        "    [200.0, 10.0, 3.0, 1.0, 3.0],\n",
        "    [350.0, 100.0, 3.0, 1.0, 2.0]\n",
        "])"
      ],
      "metadata": {
        "id": "ieFPTTkofnXj"
      },
      "execution_count": null,
      "outputs": []
    },
    {
      "cell_type": "code",
      "source": [
        "# Tipe optimasi (1 untuk MAX, -1 untuk MIN)\n",
        "optimization_type = np.array([-1, 1, 1, -1, 1])  # Sesuai dengan MIN/MAX di Excel"
      ],
      "metadata": {
        "id": "E4Bl6Zr-fqOY"
      },
      "execution_count": 8,
      "outputs": []
    },
    {
      "cell_type": "code",
      "source": [
        "# Bobot kriteria\n",
        "weights = np.array([0.25, 0.15, 0.3, 0.25, 0.05])\n",
        "\n",
        "print(\"\\n1. Matrix Keputusan Awal:\")\n",
        "df_decision = pd.DataFrame(decision_matrix,\n",
        "                         index=alternatives,\n",
        "                         columns=criteria)\n",
        "print(df_decision)"
      ],
      "metadata": {
        "colab": {
          "base_uri": "https://localhost:8080/"
        },
        "id": "uZUn6Tx2ftYe",
        "outputId": "85dca000-56ab-4954-943d-78c9a9f86a08"
      },
      "execution_count": 9,
      "outputs": [
        {
          "output_type": "stream",
          "name": "stdout",
          "text": [
            "\n",
            "1. Matrix Keputusan Awal:\n",
            "       C1     C2   C3   C4   C5\n",
            "A1  150.0   15.0  2.0  2.0  3.0\n",
            "A2  500.0  200.0  2.0  3.0  2.0\n",
            "A3  200.0   10.0  3.0  1.0  3.0\n",
            "A4  350.0  100.0  3.0  1.0  2.0\n"
          ]
        }
      ]
    },
    {
      "cell_type": "code",
      "source": [
        "# Normalisasi\n",
        "# Menghitung pembagi (akar dari jumlah kuadrat)\n",
        "denominators = np.sqrt(np.sum(decision_matrix**2, axis=0))\n",
        "print(\"\\nPembagi (Akar dari jumlah kuadrat):\")\n",
        "for i, denominator in enumerate(denominators):\n",
        "    print(f\"{criteria[i]}: {denominator:.3f}\")"
      ],
      "metadata": {
        "colab": {
          "base_uri": "https://localhost:8080/"
        },
        "id": "91DkrG8vfwxg",
        "outputId": "530481a1-91af-48a0-87ee-7feb759d3656"
      },
      "execution_count": 10,
      "outputs": [
        {
          "output_type": "stream",
          "name": "stdout",
          "text": [
            "\n",
            "Pembagi (Akar dari jumlah kuadrat):\n",
            "C1: 659.545\n",
            "C2: 224.332\n",
            "C3: 5.099\n",
            "C4: 3.873\n",
            "C5: 5.099\n"
          ]
        }
      ]
    },
    {
      "cell_type": "code",
      "source": [
        "# Matrix normalisasi\n",
        "normalized_matrix = decision_matrix / denominators\n",
        "print(\"\\n2. Matrix Normalisasi:\")\n",
        "df_normalized = pd.DataFrame(normalized_matrix,\n",
        "                           index=alternatives,\n",
        "                           columns=criteria)\n",
        "print(df_normalized)"
      ],
      "metadata": {
        "colab": {
          "base_uri": "https://localhost:8080/"
        },
        "id": "Ng-WjTFff2WS",
        "outputId": "f5717f28-2f43-4c96-c4c2-f2cd119b9f5a"
      },
      "execution_count": 11,
      "outputs": [
        {
          "output_type": "stream",
          "name": "stdout",
          "text": [
            "\n",
            "2. Matrix Normalisasi:\n",
            "          C1        C2        C3        C4        C5\n",
            "A1  0.227429  0.066865  0.392232  0.516398  0.588348\n",
            "A2  0.758098  0.891534  0.392232  0.774597  0.392232\n",
            "A3  0.303239  0.044577  0.588348  0.258199  0.588348\n",
            "A4  0.530669  0.445767  0.588348  0.258199  0.392232\n"
          ]
        }
      ]
    },
    {
      "cell_type": "code",
      "source": [
        "# Normalisasi terbobot\n",
        "weighted_normalized = normalized_matrix * weights\n",
        "print(\"\\n3. Matrix Normalisasi Terbobot (Optimasi Nilai Atribut):\")\n",
        "df_weighted = pd.DataFrame(weighted_normalized,\n",
        "                         index=alternatives,\n",
        "                         columns=criteria)\n",
        "print(df_weighted)"
      ],
      "metadata": {
        "colab": {
          "base_uri": "https://localhost:8080/"
        },
        "id": "ATVwWlAbf9tl",
        "outputId": "7981b63b-dc9e-48ba-8234-e4d778b69f5a"
      },
      "execution_count": 12,
      "outputs": [
        {
          "output_type": "stream",
          "name": "stdout",
          "text": [
            "\n",
            "3. Matrix Normalisasi Terbobot (Optimasi Nilai Atribut):\n",
            "          C1        C2        C3        C4        C5\n",
            "A1  0.056857  0.010030  0.117670  0.129099  0.029417\n",
            "A2  0.189525  0.133730  0.117670  0.193649  0.019612\n",
            "A3  0.075810  0.006687  0.176505  0.064550  0.029417\n",
            "A4  0.132667  0.066865  0.176505  0.064550  0.019612\n"
          ]
        }
      ]
    },
    {
      "cell_type": "code",
      "source": [
        "# Menghitung nilai maximum dan minimum\n",
        "max_values = np.zeros(len(alternatives))\n",
        "min_values = np.zeros(len(alternatives))\n",
        "\n",
        "for i in range(len(alternatives)):\n",
        "    max_values[i] = sum(weighted_normalized[i, j] for j in range(len(criteria))\n",
        "                       if optimization_type[j] == 1)\n",
        "    min_values[i] = sum(weighted_normalized[i, j] for j in range(len(criteria))\n",
        "                       if optimization_type[j] == -1)\n"
      ],
      "metadata": {
        "id": "pGgZeGGqkl6o"
      },
      "execution_count": 13,
      "outputs": []
    },
    {
      "cell_type": "code",
      "source": [
        "# Menghitung Yi (MAX-MIN)\n",
        "yi_values = max_values - min_values"
      ],
      "metadata": {
        "id": "GeBvCOPjkrf9"
      },
      "execution_count": 14,
      "outputs": []
    },
    {
      "cell_type": "code",
      "source": [
        "# Membuat dataframe hasil\n",
        "results = pd.DataFrame({\n",
        "    'Alternatif': alternatives,\n",
        "    'Maximum': max_values,\n",
        "    'Minimum': min_values,\n",
        "    'Yi (MAX-MIN)': yi_values\n",
        "})"
      ],
      "metadata": {
        "id": "XmavwPeoZRlu"
      },
      "execution_count": 15,
      "outputs": []
    },
    {
      "cell_type": "code",
      "source": [
        "# Menambahkan ranking\n",
        "results['Rank'] = results['Yi (MAX-MIN)'].rank(ascending=False).astype(int)\n",
        "results = results.sort_values('Yi (MAX-MIN)', ascending=False)\n",
        "\n",
        "print(\"\\n4. Nilai Yi dan Perangkingan:\")\n",
        "print(results)"
      ],
      "metadata": {
        "colab": {
          "base_uri": "https://localhost:8080/"
        },
        "id": "q7eARkJOZXPA",
        "outputId": "c07ba7a8-f3c1-4fa0-9ef9-8cc3aea30c49"
      },
      "execution_count": 16,
      "outputs": [
        {
          "output_type": "stream",
          "name": "stdout",
          "text": [
            "\n",
            "4. Nilai Yi dan Perangkingan:\n",
            "  Alternatif   Maximum   Minimum  Yi (MAX-MIN)  Rank\n",
            "2         A3  0.212608  0.140360      0.072249     1\n",
            "3         A4  0.262981  0.197217      0.065764     2\n",
            "0         A1  0.157117  0.185957     -0.028840     3\n",
            "1         A2  0.271011  0.383174     -0.112162     4\n"
          ]
        }
      ]
    },
    {
      "cell_type": "code",
      "source": [
        "# Visualisasi\n",
        "plt.figure(figsize=(10, 6))\n",
        "plt.bar(results['Alternatif'], results['Yi (MAX-MIN)'])\n",
        "plt.title('Perbandingan Nilai Yi Antar Alternatif')\n",
        "plt.xlabel('Alternatif')\n",
        "plt.ylabel('Nilai Yi')\n",
        "plt.grid(True, alpha=0.3)\n",
        "for i, v in enumerate(results['Yi (MAX-MIN)']):\n",
        "    plt.text(i, v, f'{v:.4f}', ha='center', va='bottom')\n",
        "plt.show()"
      ],
      "metadata": {
        "colab": {
          "base_uri": "https://localhost:8080/",
          "height": 564
        },
        "id": "lk7G3JfXadnm",
        "outputId": "c392f5b8-fee2-4644-c7a5-ef77c1b69137"
      },
      "execution_count": 17,
      "outputs": [
        {
          "output_type": "display_data",
          "data": {
            "text/plain": [
              "<Figure size 1000x600 with 1 Axes>"
            ],
            "image/png": "[encoded data removed]"
          },
          "metadata": {}
        }
      ]
    },
    {
      "cell_type": "code",
      "source": [
        "# Kesimpulan\n",
        "best_alternative = results.iloc[0]\n",
        "print(\"\\nKESIMPULAN:\")\n",
        "print(f\"Nilai preferensi tertinggi yang diperoleh dari alternatif investasi pemeliharaan sarana TI,\")\n",
        "print(f\"sebesar {best_alternative['Yi (MAX-MIN)']:.3f}, secara kuat mendukung keputusan untuk memprioritaskan proyek ini.\")\n",
        "print(\"Hasil analisis ini memberikan dasar yang kuat untuk mengambil tindakan yang diperlukan.\")"
      ],
      "metadata": {
        "colab": {
          "base_uri": "https://localhost:8080/"
        },
        "id": "ql-Pd9OVai5t",
        "outputId": "6f5fef2c-4e48-4522-c411-c315b86265cc"
      },
      "execution_count": 18,
      "outputs": [
        {
          "output_type": "stream",
          "name": "stdout",
          "text": [
            "\n",
            "KESIMPULAN:\n",
            "Nilai preferensi tertinggi yang diperoleh dari alternatif investasi pemeliharaan sarana TI,\n",
            "sebesar 0.072, secara kuat mendukung keputusan untuk memprioritaskan proyek ini.\n",
            "Hasil analisis ini memberikan dasar yang kuat untuk mengambil tindakan yang diperlukan.\n"
          ]
        }
      ]
    },
    {
      "cell_type": "code",
      "source": [],
      "metadata": {
        "id": "VgbhqJnGa8tl"
      },
      "execution_count": null,
      "outputs": []
    }
  ]
}